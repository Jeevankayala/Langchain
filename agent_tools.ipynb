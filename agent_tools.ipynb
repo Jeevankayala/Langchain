{
 "cells": [
  {
   "cell_type": "code",
   "execution_count": 1,
   "id": "bbed3192",
   "metadata": {},
   "outputs": [],
   "source": [
    "from secret_keys import SERPAPI_API_KEY\n",
    "\n",
    "import os\n",
    "os.environ[\"SERPAPI_API_KEY\"] = SERPAPI_API_KEY"
   ]
  },
  {
   "cell_type": "code",
   "execution_count": 2,
   "id": "0098e04e",
   "metadata": {},
   "outputs": [
    {
     "name": "stdout",
     "output_type": "stream",
     "text": [
      "Requirement already satisfied: wikipedia in f:\\python39\\lib\\site-packages (1.4.0)\n",
      "Requirement already satisfied: numexpr in f:\\python39\\lib\\site-packages (2.10.2)\n",
      "Requirement already satisfied: google-search-results in f:\\python39\\lib\\site-packages (2.4.2)\n",
      "Requirement already satisfied: beautifulsoup4 in f:\\python39\\lib\\site-packages (from wikipedia) (4.12.3)\n",
      "Requirement already satisfied: requests<3.0.0,>=2.0.0 in f:\\python39\\lib\\site-packages (from wikipedia) (2.32.3)\n",
      "Requirement already satisfied: numpy>=1.23.0 in f:\\python39\\lib\\site-packages (from numexpr) (1.26.4)\n",
      "Requirement already satisfied: certifi>=2017.4.17 in f:\\python39\\lib\\site-packages (from requests<3.0.0,>=2.0.0->wikipedia) (2024.12.14)\n",
      "Requirement already satisfied: charset-normalizer<4,>=2 in f:\\python39\\lib\\site-packages (from requests<3.0.0,>=2.0.0->wikipedia) (3.4.0)\n",
      "Requirement already satisfied: urllib3<3,>=1.21.1 in f:\\python39\\lib\\site-packages (from requests<3.0.0,>=2.0.0->wikipedia) (2.3.0)\n",
      "Requirement already satisfied: idna<4,>=2.5 in f:\\python39\\lib\\site-packages (from requests<3.0.0,>=2.0.0->wikipedia) (3.10)\n",
      "Requirement already satisfied: soupsieve>1.2 in f:\\python39\\lib\\site-packages (from beautifulsoup4->wikipedia) (2.6)\n",
      "Note: you may need to restart the kernel to use updated packages.\n"
     ]
    },
    {
     "name": "stderr",
     "output_type": "stream",
     "text": [
      "WARNING: You are using pip version 21.3.1; however, version 24.3.1 is available.\n",
      "You should consider upgrading via the 'F:\\Python39\\python.exe -m pip install --upgrade pip' command.\n"
     ]
    }
   ],
   "source": [
    "pip install wikipedia numexpr google-search-results"
   ]
  },
  {
   "cell_type": "code",
   "execution_count": 3,
   "id": "667badaf",
   "metadata": {},
   "outputs": [],
   "source": [
    "gemini_api_key = \"use your own gemini api key which you can get from https://aistudio.google.com/apikey\""
   ]
  },
  {
   "cell_type": "code",
   "execution_count": 4,
   "id": "f1908aed",
   "metadata": {},
   "outputs": [],
   "source": [
    "from langchain_google_genai import GoogleGenerativeAI\n",
    "llm = GoogleGenerativeAI(temperature = 0.5, model = \"gemini-pro\", api_key = gemini_api_key)"
   ]
  },
  {
   "cell_type": "code",
   "execution_count": 5,
   "id": "bb5a967b",
   "metadata": {},
   "outputs": [],
   "source": [
    "from langchain.agents import AgentType,initialize_agent,load_tools\n",
    "\n",
    "tools = load_tools(tool_names = [\"wikipedia\",\"llm-math\",\"serpapi\"], llm = llm)"
   ]
  },
  {
   "cell_type": "code",
   "execution_count": 6,
   "id": "ba222524",
   "metadata": {},
   "outputs": [
    {
     "name": "stderr",
     "output_type": "stream",
     "text": [
      "C:\\Users\\satya\\AppData\\Local\\Temp/ipykernel_10224/2132541574.py:1: LangChainDeprecationWarning: LangChain agents will continue to be supported, but it is recommended for new use cases to be built with LangGraph. LangGraph offers a more flexible and full-featured framework for building agents, including support for tool-calling, persistence of state, and human-in-the-loop workflows. See LangGraph documentation for more details: https://langchain-ai.github.io/langgraph/. Refer here for its pre-built ReAct agent: https://langchain-ai.github.io/langgraph/how-tos/create-react-agent/\n",
      "  agent = initialize_agent(tools, llm, agent = AgentType.ZERO_SHOT_REACT_DESCRIPTION, verbose = True, handle_parsing_errors=True)\n"
     ]
    }
   ],
   "source": [
    "agent = initialize_agent(tools, llm, agent = AgentType.ZERO_SHOT_REACT_DESCRIPTION, verbose = True, handle_parsing_errors=True)"
   ]
  },
  {
   "cell_type": "code",
   "execution_count": 7,
   "id": "69740072",
   "metadata": {
    "scrolled": true
   },
   "outputs": [
    {
     "name": "stdout",
     "output_type": "stream",
     "text": [
      "\n",
      "\n",
      "\u001b[1m> Entering new AgentExecutor chain...\u001b[0m\n",
      "\u001b[32;1m\u001b[1;3mAction: Search\n",
      "Action Input: Who is Gukesh Dommaraju?\u001b[0m\n",
      "Observation: \u001b[38;5;200m\u001b[1;3m[{'title': \"Gukesh's victory solidifies India's position as a Chess Superpower\", 'link': 'https://www.business-standard.com/sports/other-sports-news/gukesh-s-victory-solidifies-india-s-position-as-a-chess-superpower-124122400382_1.html', 'source': 'Business Standard', 'date': '5 hours ago', 'thumbnail': 'https://encrypted-tbn0.gstatic.com/images?q=tbn:ANd9GcR-VgLModzAKlB7WashXDweODkSswDTQd4dN41cnhPkVXj6jd21pnBkUCw&usqp=CAI&s'}, {'title': 'Gukesh Dommaraju’s Mother Reveals Why They Pulled Him Out Of School After Class 5 | Here’s Why', 'link': 'https://news24online.com/sports/gukesh-dommarajus-mother-reveals-why-they-pulled-him-out-of-school-after-class-5-heres-why/417638/', 'source': 'News24', 'date': '1 day ago', 'thumbnail': 'https://encrypted-tbn0.gstatic.com/images?q=tbn:ANd9GcS-hiYIuxf7JQKPysi1EW_nxJYkiaf4rIzav-pnKcLg1mSwdpZRvKGNcuU&usqp=CAI&s'}, {'title': 'India celebrates Gukesh Dommaraju', 'link': 'https://www.stabroeknews.com/2024/12/22/sunday/chess-with-errol/india-celebrates-gukesh-dommaraju/', 'source': 'Stabroek News', 'date': '2 days ago', 'thumbnail': 'https://encrypted-tbn0.gstatic.com/images?q=tbn:ANd9GcS6BYxdIJMkWwX0glmR59hSldzZ8J81NBmNwDMtGlffkDEpKxP5q3jy9-Q&usqp=CAI&s'}, {'title': 'Grzegorz Gajewski Highlights Dommaraju Gukesh’s Calculated Brilliance, Different From THIS Chess Maestro | Full Details', 'link': 'https://news24online.com/sports/grzegorz-gajewski-highlights-dommaraju-gukeshs-calculated-brilliance-different-from-this-chess-maestro-full-details/416823/', 'source': 'News24', 'date': '1 day ago', 'thumbnail': 'https://encrypted-tbn0.gstatic.com/images?q=tbn:ANd9GcQx0DvnaC_olPaFrncUcfnaBcthLuo0ESRFIENv5sQRX_za-Eeyeq12GP0&usqp=CAI&s'}, {'title': 'D Gukesh vs Viswanathan Anand, to face Magnus Carlsen: World Chess Champion’s confirmed schedule for 2025', 'link': 'https://www.msn.com/en-in/sports/other/d-gukesh-vs-viswanathan-anand-to-face-magnus-carlsen-world-chess-champion-s-confirmed-schedule-for-2025/ar-AA1wlrfu', 'source': 'MSN', 'date': '1 day ago', 'thumbnail': 'https://encrypted-tbn0.gstatic.com/images?q=tbn:ANd9GcTrqnS1wHYBUi5AjPBPhOtIeGJHvhEu15_kI6YhagbOw23yZNhq9CoCueA&usqp=CAI&s'}, {'title': \"D Gukesh's father names Indian GM who played a 'big role' in his son's growth and it's not Viswanathan Anand\", 'link': 'https://www.firstpost.com/sports/d-gukesh-father-rajinikanth-indian-grandmaster-harikrishna-pentala-viswanathan-anand-13846790.html', 'source': 'Firstpost', 'date': '1 day ago', 'thumbnail': 'https://encrypted-tbn0.gstatic.com/images?q=tbn:ANd9GcR-XIhOVmM_fiZ2x6qcmAlN64jYKPPHyMxVDf3VWRJFw6jGwn-75QpENVg&usqp=CAI&s'}]\u001b[0m\n",
      "Thought:\u001b[32;1m\u001b[1;3mAction: Search\n",
      "Action Input: Gukesh Dommaraju\u001b[0m\n",
      "Observation: \u001b[38;5;200m\u001b[1;3m[{'title': \"Gukesh's victory solidifies India's position as a Chess Superpower\", 'link': 'https://www.business-standard.com/sports/other-sports-news/gukesh-s-victory-solidifies-india-s-position-as-a-chess-superpower-124122400382_1.html', 'source': 'Business Standard', 'date': '5 hours ago', 'thumbnail': 'https://serpapi.com/searches/676acde20d68a28ae44c9148/images/ba030cddadcba9addb1500ef02dec581409dd4504ec096f1.jpeg'}, {'title': 'Gukesh Dommaraju’s Mother Reveals Why They Pulled Him Out Of School After Class 5 | Here’s Why', 'link': 'https://news24online.com/sports/gukesh-dommarajus-mother-reveals-why-they-pulled-him-out-of-school-after-class-5-heres-why/417638/', 'source': 'News24', 'date': '1 day ago', 'thumbnail': 'https://serpapi.com/searches/676acde20d68a28ae44c9148/images/ba030cddadcba9ad473f76652bb8ff9a3f79c87bc6e9fb1f.jpeg'}, {'title': \"D Gukesh's father names Indian GM who played a 'big role' in his son's growth and it's not Viswanathan Anand\", 'link': 'https://www.firstpost.com/sports/d-gukesh-father-rajinikanth-indian-grandmaster-harikrishna-pentala-viswanathan-anand-13846790.html', 'source': 'Firstpost', 'date': '1 day ago', 'thumbnail': 'https://serpapi.com/searches/676acde20d68a28ae44c9148/images/ba030cddadcba9ad6728594f1276a9bf240756f057075dfa.jpeg'}, {'title': 'Grzegorz Gajewski Highlights Dommaraju Gukesh’s Calculated Brilliance, Different From THIS Chess Maestro | Full Details', 'link': 'https://news24online.com/sports/grzegorz-gajewski-highlights-dommaraju-gukeshs-calculated-brilliance-different-from-this-chess-maestro-full-details/416823/', 'source': 'News24', 'date': '1 day ago', 'thumbnail': 'https://serpapi.com/searches/676acde20d68a28ae44c9148/images/ba030cddadcba9ada93b98901eb2fa4b80389257f3da8535.jpeg'}, {'title': 'World Champion Gukesh Not Favored in 2025 Tata Steel Chess Tournament Odds', 'link': 'https://www.legalsportsbetting.com/news/world-champion-gukesh-not-favored-in-2025-tata-steel-chess-tournament-odds-12-23-2024/', 'source': 'LegalSportsBetting.com', 'date': '18 hours ago', 'thumbnail': 'https://serpapi.com/searches/676acde20d68a28ae44c9148/images/ba030cddadcba9ad32f7de85cf02b4a4bb25d039d8629791.jpeg'}, {'title': '18-Year-Old Gukesh Becomes Youngest-Ever Undisputed Chess World Champion', 'link': 'https://www.chess.com/news/view/fide-world-chess-championship-2024-game-14', 'source': 'Chess.com', 'date': '2 weeks ago', 'thumbnail': 'https://serpapi.com/searches/676acde20d68a28ae44c9148/images/ba030cddadcba9ad2ff7d896a1c965e3d0a06575ec2ac981.jpeg'}]\u001b[0m\n",
      "Thought:\u001b[32;1m\u001b[1;3mAction: wikipedia\n",
      "Action Input: Gukesh Dommaraju\u001b[0m\n",
      "Observation: \u001b[36;1m\u001b[1;3mPage: Gukesh Dommaraju\n",
      "Summary: Gukesh Dommaraju (born 29 May 2006), also known as Gukesh D, is an Indian chess grandmaster and the reigning World Chess Champion. A chess prodigy, Gukesh is the youngest undisputed world champion, the youngest player to have surpassed a FIDE rating of 2750, doing so at the age of 17, and the third-youngest to have surpassed 2700 Elo at the age of 16. He earned the title of grandmaster at the age of 12 and is the third-youngest grandmaster in chess history. \n",
      "Gukesh started playing chess at the age of 7. He won the under-12 title at the World Youth Chess Championship in 2018, and multiple gold medals at the 2018 Asian Youth Chess Championship. He completed the requirements for the title of International Master in March 2017. On 15 January 2019, at the age of 12 years, 7 months, and 17 days, he became the then second-youngest grandmaster in the history of the game, after Sergey Karjakin. He was part of the Indian team that won the silver medal at the 2022 Asian Games in the men's team competition.\n",
      "Gukesh won the team bronze and the individual gold medal at the 44th Chess Olympiad in 2022. In the September 2023 rating list, Gukesh became the top-rated Indian player, surpassing Viswanathan Anand, 37-year record. In the 45th Chess Olympiad in 2024, he won both team and individual gold medals. He also won the 2024 Candidates Tournament conducted to identify the challenger to Ding Liren for the World Chess Championship, and became its youngest ever winner. At the World Chess Championship 2024, he won the title by defeating Ding, and became the 18th and youngest undisputed world champion, at the age of 18 years and 195 days.\n",
      "\n",
      "Page: Candidates Tournament 2024\n",
      "Summary: The 2024 Candidates Tournament was an eight-player chess tournament, held to determine the challenger for the World Chess Championship 2024. The tournament took place at The Great Hall in Toronto, Canada, from April 3–22, 2024. The event was held alongside the Women's Candidates Tournament. The event was won by Gukesh Dommaraju, which made him the youngest ever winner of a Candidates Tournament, and the youngest ever World Chess Championship challenger. Following the Event Gukesh went on to become the youngest World Champion by defeating Ding Liren in the 14th round of Classical Chess.\n",
      "As with every Candidates tournament since 2013, it was a double round-robin tournament. The winner of the tournament earned the right to play the World Chess Championship 2024 against the current World Chess Champion Ding Liren.\n",
      "\n",
      "\n",
      "\n",
      "Page: World Chess Championship 2024\n",
      "Summary: The World Chess Championship 2024 was a chess match between the reigning world champion Ding Liren and the challenger Gukesh Dommaraju to determine the World Chess Champion. The match took place between 25 November and 12 December 2024 in Singapore. It was played to a best of 14 games, with tiebreaks if required. The match was won by Gukesh 7½–6½ after 14 games.  The win made Gukesh, at age 18, the youngest undisputed world champion.\n",
      "Ding Liren won the 2023 World Chess Championship by defeating Ian Nepomniachtchi, after reigning champion Magnus Carlsen declined to defend his title. Gukesh won the eight-player Candidates Tournament held in April 2024 to win the right to challenge Ding for the World Championship. Before the start of the match, Gukesh was ranked fifth in the FIDE rankings with an Elo rating of 2783 while Ding was ranked 23rd with an Elo rating of 2728.\n",
      "Ding won two games and Gukesh won three. The 14th and final game ended with Gukesh winning the game and match with the black pieces after Ding resigned following a blunder that allowed Gukesh to simplify the position to a king and pawn versus king endgame.\u001b[0m\n",
      "Thought:\u001b[32;1m\u001b[1;3mFinal Answer: Gukesh Dommaraju is an Indian chess grandmaster and the reigning World Chess Champion. He is the youngest undisputed world champion, the youngest player to have surpassed a FIDE rating of 2750, doing so at the age of 17, and the third-youngest to have surpassed 2700 Elo at the age of 16. He earned the title of grandmaster at the age of 12 and is the third-youngest grandmaster in chess history. He won the World Chess Championship in 2024 at the age of 18 years and 195 days, becoming the youngest undisputed world champion.\u001b[0m\n",
      "\n",
      "\u001b[1m> Finished chain.\u001b[0m\n"
     ]
    },
    {
     "data": {
      "text/plain": [
       "{'input': 'Search for Who is Gukesh Dommaraju, and then give a short biography of him and what is his Age at the time he won the world chess championship?',\n",
       " 'output': 'Gukesh Dommaraju is an Indian chess grandmaster and the reigning World Chess Champion. He is the youngest undisputed world champion, the youngest player to have surpassed a FIDE rating of 2750, doing so at the age of 17, and the third-youngest to have surpassed 2700 Elo at the age of 16. He earned the title of grandmaster at the age of 12 and is the third-youngest grandmaster in chess history. He won the World Chess Championship in 2024 at the age of 18 years and 195 days, becoming the youngest undisputed world champion.'}"
      ]
     },
     "execution_count": 7,
     "metadata": {},
     "output_type": "execute_result"
    }
   ],
   "source": [
    "agent.invoke(\"Search for Who is Gukesh Dommaraju, and then give a short biography of him and what is his Age at the time he won the world chess championship?\")"
   ]
  },
  {
   "cell_type": "code",
   "execution_count": null,
   "id": "1e0b430c",
   "metadata": {},
   "outputs": [],
   "source": []
  }
 ],
 "metadata": {
  "kernelspec": {
   "display_name": "Python 3 (ipykernel)",
   "language": "python",
   "name": "python3"
  },
  "language_info": {
   "codemirror_mode": {
    "name": "ipython",
    "version": 3
   },
   "file_extension": ".py",
   "mimetype": "text/x-python",
   "name": "python",
   "nbconvert_exporter": "python",
   "pygments_lexer": "ipython3",
   "version": "3.9.7"
  }
 },
 "nbformat": 4,
 "nbformat_minor": 5
}
